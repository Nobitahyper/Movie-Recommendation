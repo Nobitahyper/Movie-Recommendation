{
 "cells": [
  {
   "cell_type": "code",
   "execution_count": 1,
   "metadata": {},
   "outputs": [],
   "source": [
    "import pandas as pd\n",
    "import re\n",
    "\n",
    "# Load the datasets\n",
    "links_df = pd.read_csv('datasets/links.csv')\n",
    "movies_df = pd.read_csv('datasets/movies.csv')\n",
    "ratings_df = pd.read_csv('datasets/ratings.csv')\n",
    "tags_df = pd.read_csv('datasets/tags.csv')\n",
    "\n",
    "# Handling missing values in the Links dataset\n",
    "links_df['tmdbId'].fillna(0, inplace=True)\n",
    "\n",
    "# Processing the genres field in the Movies dataset\n",
    "movies_df['genres'] = movies_df['genres'].apply(lambda x: x.split('|'))\n",
    "\n",
    "# Extracting the year from the title field and removing it from the title\n",
    "def extract_year(title):\n",
    "    match = re.search(r'\\((\\d{4})\\)', title)\n",
    "    return int(match.group(1)) if match else None\n",
    "\n",
    "movies_df['year'] = movies_df['title'].apply(extract_year)\n",
    "movies_df['title'] = movies_df['title'].apply(lambda x: re.sub(r'(\\(\\d{4}\\))', '', x).strip())\n",
    "\n",
    "# Converting timestamp fields in Ratings and Tags datasets\n",
    "ratings_df['timestamp'] = pd.to_datetime(ratings_df['timestamp'], unit='s')\n",
    "tags_df['timestamp'] = pd.to_datetime(tags_df['timestamp'], unit='s')\n",
    "\n",
    "# Save the cleaned datasets\n",
    "links_df.to_csv('datasets/cleaned_links.csv', index=False)\n",
    "movies_df.to_csv('datasets/cleaned_movies.csv', index=False)\n",
    "ratings_df.to_csv('datasets/cleaned_ratings.csv', index=False)\n",
    "tags_df.to_csv('datasets/cleaned_tags.csv', index=False)\n"
   ]
  },
  {
   "cell_type": "code",
   "execution_count": null,
   "metadata": {},
   "outputs": [],
   "source": []
  },
  {
   "cell_type": "code",
   "execution_count": null,
   "metadata": {},
   "outputs": [],
   "source": [
    "\n",
    "\n"
   ]
  },
  {
   "cell_type": "code",
   "execution_count": null,
   "metadata": {},
   "outputs": [],
   "source": []
  },
  {
   "cell_type": "code",
   "execution_count": null,
   "metadata": {},
   "outputs": [],
   "source": []
  },
  {
   "cell_type": "code",
   "execution_count": null,
   "metadata": {},
   "outputs": [],
   "source": []
  }
 ],
 "metadata": {
  "kernelspec": {
   "display_name": "Python 3",
   "language": "python",
   "name": "python3"
  },
  "language_info": {
   "codemirror_mode": {
    "name": "ipython",
    "version": 3
   },
   "file_extension": ".py",
   "mimetype": "text/x-python",
   "name": "python",
   "nbconvert_exporter": "python",
   "pygments_lexer": "ipython3",
   "version": "3.8.5"
  }
 },
 "nbformat": 4,
 "nbformat_minor": 4
}
