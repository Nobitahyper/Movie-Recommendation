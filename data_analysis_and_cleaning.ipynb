{
 "cells": [
  {
   "cell_type": "code",
   "execution_count": 6,
   "metadata": {},
   "outputs": [
    {
     "name": "stdout",
     "output_type": "stream",
     "text": [
      "Cleaned Movies DataFrame:\n",
      "   movieId                        title  \\\n",
      "0        1                    Toy Story   \n",
      "1        2                      Jumanji   \n",
      "2        3             Grumpier Old Men   \n",
      "3        4            Waiting to Exhale   \n",
      "4        5  Father of the Bride Part II   \n",
      "\n",
      "                                        genres    year  \n",
      "0  Adventure|Animation|Children|Comedy|Fantasy  1995.0  \n",
      "1                   Adventure|Children|Fantasy  1995.0  \n",
      "2                               Comedy|Romance  1995.0  \n",
      "3                         Comedy|Drama|Romance  1995.0  \n",
      "4                                       Comedy  1995.0  \n",
      "\n",
      "Genres Expanded into Separate Rows:\n",
      "   movieId      genre\n",
      "0        1  Adventure\n",
      "1        2  Adventure\n",
      "2        3     Comedy\n",
      "3        4     Comedy\n",
      "4        5     Comedy\n",
      "\n",
      "Duplicate Movies (if any):\n",
      "Empty DataFrame\n",
      "Columns: [movieId, title, genres, year]\n",
      "Index: []\n"
     ]
    }
   ],
   "source": [
    "import pandas as pd\n",
    "import re\n",
    "\n",
    "# Load the dataset\n",
    "movies_df = pd.read_csv('datasets/movies.csv')\n",
    "\n",
    "# Function to extract year from the title\n",
    "def extract_year(title):\n",
    "    match = re.search(r'\\((\\d{4})\\)$', title)\n",
    "    return int(match.group(1)) if match else None\n",
    "\n",
    "# Extracting the year and creating a new column\n",
    "movies_df['year'] = movies_df['title'].apply(extract_year)\n",
    "\n",
    "# Improving the regex to remove the year from the title column\n",
    "movies_df['title'] = movies_df['title'].apply(lambda x: re.sub(r'\\s*\\(\\d{4}\\)\\s*$', '', x))\n",
    "\n",
    "# Splitting genres into separate rows\n",
    "genres_expanded = movies_df['genres'].str.split('|', expand=True)\n",
    "genres_expanded['movieId'] = movies_df['movieId']\n",
    "melted_genres = genres_expanded.melt(id_vars='movieId', value_name='genre')\n",
    "melted_genres = melted_genres.dropna().drop('variable', axis=1)\n",
    "\n",
    "# Checking for duplicate movies\n",
    "duplicate_movies = movies_df[movies_df.duplicated(subset='movieId', keep=False)]\n",
    "\n",
    "# Displaying the cleaned movies_df DataFrame\n",
    "cleaned_movies_df = movies_df.head()\n",
    "print(\"Cleaned Movies DataFrame:\")\n",
    "print(cleaned_movies_df)\n",
    "\n",
    "print(\"\\nGenres Expanded into Separate Rows:\")\n",
    "print(melted_genres.head())\n",
    "\n",
    "print(\"\\nDuplicate Movies (if any):\")\n",
    "print(duplicate_movies)\n"
   ]
  },
  {
   "cell_type": "code",
   "execution_count": 7,
   "metadata": {},
   "outputs": [
    {
     "name": "stdout",
     "output_type": "stream",
     "text": [
      "Cleaned Ratings DataFrame:\n",
      "   userId  movieId  rating           timestamp\n",
      "0       1        1     4.0 2000-07-30 18:45:03\n",
      "1       1        3     4.0 2000-07-30 18:20:47\n",
      "2       1        6     4.0 2000-07-30 18:37:04\n",
      "3       1       47     5.0 2000-07-30 19:03:35\n",
      "4       1       50     5.0 2000-07-30 18:48:51\n",
      "\n",
      "Duplicate Ratings (if any):\n",
      "Empty DataFrame\n",
      "Columns: [userId, movieId, rating, timestamp]\n",
      "Index: []\n"
     ]
    }
   ],
   "source": [
    "import pandas as pd\n",
    "\n",
    "# Load the dataset\n",
    "ratings_df = pd.read_csv('datasets/ratings.csv')\n",
    "\n",
    "# Convert timestamp to a human-readable date format\n",
    "ratings_df['timestamp'] = pd.to_datetime(ratings_df['timestamp'], unit='s')\n",
    "\n",
    "# Validate ratings range (assuming a 0-5 scale)\n",
    "ratings_df = ratings_df[(ratings_df['rating'] >= 0) & (ratings_df['rating'] <= 5)]\n",
    "\n",
    "# Check for duplicates\n",
    "duplicate_ratings = ratings_df[ratings_df.duplicated()]\n",
    "\n",
    "# Displaying the cleaned ratings_df DataFrame\n",
    "cleaned_ratings_df = ratings_df.head()\n",
    "\n",
    "# Output the cleaned data and any duplicates\n",
    "print(\"Cleaned Ratings DataFrame:\")\n",
    "print(cleaned_ratings_df)\n",
    "\n",
    "print(\"\\nDuplicate Ratings (if any):\")\n",
    "print(duplicate_ratings)\n"
   ]
  },
  {
   "cell_type": "code",
   "execution_count": 9,
   "metadata": {},
   "outputs": [
    {
     "name": "stdout",
     "output_type": "stream",
     "text": [
      "Cleaned Links DataFrame:\n",
      "   movieId  imdbId  tmdbId\n",
      "0        1  114709     862\n",
      "1        2  113497    8844\n",
      "2        3  113228   15602\n",
      "3        4  114885   31357\n",
      "4        5  113041   11862\n",
      "\n",
      "Duplicate Links (if any):\n",
      "Empty DataFrame\n",
      "Columns: [movieId, imdbId, tmdbId]\n",
      "Index: []\n"
     ]
    }
   ],
   "source": [
    "import pandas as pd\n",
    "\n",
    "# Load the dataset\n",
    "links_df = pd.read_csv('datasets/links.csv')\n",
    "\n",
    "# Fill missing tmdbId values with a placeholder (-1)\n",
    "links_df['tmdbId'] = links_df['tmdbId'].fillna(-1)\n",
    "\n",
    "# Convert tmdbId to integer (as filling with a placeholder makes it float)\n",
    "links_df['tmdbId'] = links_df['tmdbId'].astype(int)\n",
    "\n",
    "# Check for duplicates in the dataset\n",
    "duplicate_links = links_df[links_df.duplicated()]\n",
    "\n",
    "# Displaying the cleaned links_df DataFrame\n",
    "cleaned_links_df = links_df.head()\n",
    "\n",
    "# Output the cleaned data and any duplicates\n",
    "print(\"Cleaned Links DataFrame:\")\n",
    "print(cleaned_links_df)\n",
    "\n",
    "print(\"\\nDuplicate Links (if any):\")\n",
    "print(duplicate_links)"
   ]
  },
  {
   "cell_type": "code",
   "execution_count": 10,
   "metadata": {},
   "outputs": [
    {
     "name": "stdout",
     "output_type": "stream",
     "text": [
      "Cleaned Tags DataFrame:\n",
      "   userId  movieId              tag           timestamp\n",
      "0       2    60756            funny 2015-10-24 19:29:54\n",
      "1       2    60756  highly quotable 2015-10-24 19:29:56\n",
      "2       2    60756     will ferrell 2015-10-24 19:29:52\n",
      "3       2    89774     boxing story 2015-10-24 19:33:27\n",
      "4       2    89774              mma 2015-10-24 19:33:20\n",
      "\n",
      "Duplicate Tags (if any):\n",
      "Empty DataFrame\n",
      "Columns: [userId, movieId, tag, timestamp]\n",
      "Index: []\n"
     ]
    }
   ],
   "source": [
    "import pandas as pd\n",
    "\n",
    "# Load the dataset\n",
    "tags_df = pd.read_csv('datasets/tags.csv')\n",
    "\n",
    "# Convert timestamp to a human-readable date format\n",
    "tags_df['timestamp'] = pd.to_datetime(tags_df['timestamp'], unit='s')\n",
    "\n",
    "# Clean and standardize the tag text\n",
    "tags_df['tag'] = tags_df['tag'].str.strip().str.lower()\n",
    "\n",
    "# Check for duplicates in the dataset\n",
    "duplicate_tags = tags_df[tags_df.duplicated()]\n",
    "\n",
    "# Displaying the cleaned tags_df DataFrame\n",
    "cleaned_tags_df = tags_df.head()\n",
    "\n",
    "# Output the cleaned data and any duplicates\n",
    "print(\"Cleaned Tags DataFrame:\")\n",
    "print(cleaned_tags_df)\n",
    "\n",
    "print(\"\\nDuplicate Tags (if any):\")\n",
    "print(duplicate_tags)\n"
   ]
  },
  {
   "cell_type": "code",
   "execution_count": 11,
   "metadata": {},
   "outputs": [],
   "source": [
    "cleaned_movies_df.to_csv('datasets/cleaned_movies.csv', index=False)\n",
    "cleaned_ratings_df.to_csv('datasets/cleaned_ratings.csv', index=False)\n",
    "cleaned_links_df.to_csv('datasets/cleaned_links.csv', index=False)\n",
    "cleaned_tags_df.to_csv('datasets/cleaned_tags.csv', index=False)\n"
   ]
  },
  {
   "cell_type": "code",
   "execution_count": null,
   "metadata": {},
   "outputs": [],
   "source": []
  }
 ],
 "metadata": {
  "kernelspec": {
   "display_name": "Python 3",
   "language": "python",
   "name": "python3"
  },
  "language_info": {
   "codemirror_mode": {
    "name": "ipython",
    "version": 3
   },
   "file_extension": ".py",
   "mimetype": "text/x-python",
   "name": "python",
   "nbconvert_exporter": "python",
   "pygments_lexer": "ipython3",
   "version": "3.8.5"
  }
 },
 "nbformat": 4,
 "nbformat_minor": 4
}
