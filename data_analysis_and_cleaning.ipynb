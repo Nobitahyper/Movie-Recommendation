{
 "cells": [
  {
   "cell_type": "code",
   "execution_count": 1,
   "metadata": {},
   "outputs": [],
   "source": [
    "import pandas as pd\n",
    "import re\n",
    "\n",
    "# Load the dataset\n",
    "movies_df = pd.read_csv('datasets/movies.csv')\n",
    "\n",
    "# Function to extract year from the title\n",
    "def extract_year(title):\n",
    "    match = re.search(r'\\((\\d{4})\\)$', title)\n",
    "    return int(match.group(1)) if match else None\n",
    "\n",
    "# Extracting the year and creating a new column\n",
    "movies_df['year'] = movies_df['title'].apply(extract_year)\n",
    "\n",
    "# Improving the regex to remove the year from the title column\n",
    "movies_df['title'] = movies_df['title'].apply(lambda x: re.sub(r'\\s*\\(\\d{4}\\)\\s*$', '', x))\n",
    "\n",
    "# Splitting genres into separate rows\n",
    "genres_expanded = movies_df['genres'].str.split('|', expand=True)\n",
    "genres_expanded['movieId'] = movies_df['movieId']\n",
    "melted_genres = genres_expanded.melt(id_vars='movieId', value_name='genre')\n",
    "melted_genres = melted_genres.dropna().drop('variable', axis=1)\n",
    "\n",
    "# Checking for duplicate movies\n",
    "duplicate_movies = movies_df[movies_df.duplicated(subset='movieId', keep=False)]\n",
    "\n",
    "# Save the cleaned movies_df DataFrame to a new CSV file\n",
    "movies_df.to_csv('datasets/cleaned_movies.csv', index=False)\n",
    "\n",
    "# Save the expanded genres DataFrame to a new CSV file\n",
    "melted_genres.to_csv('datasets/cleaned_genres.csv', index=False)\n"
   ]
  },
  {
   "cell_type": "code",
   "execution_count": 2,
   "metadata": {},
   "outputs": [],
   "source": [
    "import pandas as pd\n",
    "\n",
    "# Load the dataset\n",
    "ratings_df = pd.read_csv('datasets/ratings.csv')\n",
    "\n",
    "# Convert timestamp to a human-readable date format\n",
    "ratings_df['timestamp'] = pd.to_datetime(ratings_df['timestamp'], unit='s')\n",
    "\n",
    "# Validate ratings range (assuming a 0-5 scale)\n",
    "ratings_df = ratings_df[(ratings_df['rating'] >= 0) & (ratings_df['rating'] <= 5)]\n",
    "\n",
    "# Save the cleaned ratings_df DataFrame to a new CSV file\n",
    "ratings_df.to_csv('datasets/cleaned_ratings.csv', index=False)\n"
   ]
  },
  {
   "cell_type": "code",
   "execution_count": 3,
   "metadata": {},
   "outputs": [],
   "source": [
    "import pandas as pd\n",
    "\n",
    "# Load the dataset\n",
    "links_df = pd.read_csv('datasets/links.csv')\n",
    "\n",
    "# Fill missing tmdbId values with a placeholder (-1)\n",
    "links_df['tmdbId'] = links_df['tmdbId'].fillna(-1)\n",
    "\n",
    "# Convert tmdbId to integer (as filling with a placeholder makes it float)\n",
    "links_df['tmdbId'] = links_df['tmdbId'].astype(int)\n",
    "\n",
    "# Save the cleaned links_df DataFrame to a new CSV file\n",
    "links_df.to_csv('datasets/cleaned_links.csv', index=False)\n"
   ]
  },
  {
   "cell_type": "code",
   "execution_count": 4,
   "metadata": {},
   "outputs": [],
   "source": [
    "import pandas as pd\n",
    "\n",
    "# Load the dataset\n",
    "tags_df = pd.read_csv('datasets/tags.csv')\n",
    "\n",
    "# Convert timestamp to a human-readable date format\n",
    "tags_df['timestamp'] = pd.to_datetime(tags_df['timestamp'], unit='s')\n",
    "\n",
    "# Clean and standardize the tag text\n",
    "tags_df['tag'] = tags_df['tag'].str.strip().str.lower()\n",
    "\n",
    "# Save the cleaned tags_df DataFrame to a new CSV file\n",
    "tags_df.to_csv('datasets/cleaned_tags.csv', index=False)\n"
   ]
  },
  {
   "cell_type": "code",
   "execution_count": null,
   "metadata": {},
   "outputs": [],
   "source": [
    "\n"
   ]
  },
  {
   "cell_type": "code",
   "execution_count": null,
   "metadata": {},
   "outputs": [],
   "source": []
  }
 ],
 "metadata": {
  "kernelspec": {
   "display_name": "Python 3",
   "language": "python",
   "name": "python3"
  },
  "language_info": {
   "codemirror_mode": {
    "name": "ipython",
    "version": 3
   },
   "file_extension": ".py",
   "mimetype": "text/x-python",
   "name": "python",
   "nbconvert_exporter": "python",
   "pygments_lexer": "ipython3",
   "version": "3.8.5"
  }
 },
 "nbformat": 4,
 "nbformat_minor": 4
}
